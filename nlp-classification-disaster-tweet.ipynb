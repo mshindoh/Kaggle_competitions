{
 "cells": [
  {
   "cell_type": "markdown",
   "id": "8ad53ab8",
   "metadata": {
    "papermill": {
     "duration": 0.006767,
     "end_time": "2023-08-03T07:06:29.511888",
     "exception": false,
     "start_time": "2023-08-03T07:06:29.505121",
     "status": "completed"
    },
    "tags": []
   },
   "source": [
    "Submission to Natural Language Processing with Disaster Tweets\n",
    "\n",
    "August 1, 2023\n",
    "\n",
    "Competition link: https://www.kaggle.com/competitions/nlp-getting-started/overview\n",
    "\n",
    "Code references personal notes from https://www.educative.io/courses/mastering-spacy/"
   ]
  },
  {
   "cell_type": "code",
   "execution_count": 1,
   "id": "3c5f7f43",
   "metadata": {
    "_cell_guid": "b1076dfc-b9ad-4769-8c92-a6c4dae69d19",
    "_uuid": "8f2839f25d086af736a60e9eeb907d3b93b6e0e5",
    "execution": {
     "iopub.execute_input": "2023-08-03T07:06:29.526576Z",
     "iopub.status.busy": "2023-08-03T07:06:29.525915Z",
     "iopub.status.idle": "2023-08-03T07:06:29.537458Z",
     "shell.execute_reply": "2023-08-03T07:06:29.536472Z"
    },
    "papermill": {
     "duration": 0.021356,
     "end_time": "2023-08-03T07:06:29.539606",
     "exception": false,
     "start_time": "2023-08-03T07:06:29.518250",
     "status": "completed"
    },
    "tags": []
   },
   "outputs": [
    {
     "name": "stdout",
     "output_type": "stream",
     "text": [
      "/kaggle/input/nlp-getting-started/sample_submission.csv\n",
      "/kaggle/input/nlp-getting-started/train.csv\n",
      "/kaggle/input/nlp-getting-started/test.csv\n"
     ]
    }
   ],
   "source": [
    "# This Python 3 environment comes with many helpful analytics libraries installed\n",
    "# It is defined by the kaggle/python Docker image: https://github.com/kaggle/docker-python\n",
    "# For example, here's several helpful packages to load\n",
    "\n",
    "import numpy as np # linear algebra\n",
    "import pandas as pd # data processing, CSV file I/O (e.g. pd.read_csv)\n",
    "\n",
    "# Input data files are available in the read-only \"../input/\" directory\n",
    "# For example, running this (by clicking run or pressing Shift+Enter) will list all files under the input directory\n",
    "\n",
    "import os\n",
    "for dirname, _, filenames in os.walk('/kaggle/input'):\n",
    "    for filename in filenames:\n",
    "        print(os.path.join(dirname, filename))\n",
    "\n",
    "# You can write up to 20GB to the current directory (/kaggle/working/) that gets preserved as output when you create a version using \"Save & Run All\" \n",
    "# You can also write temporary files to /kaggle/temp/, but they won't be saved outside of the current session"
   ]
  },
  {
   "cell_type": "code",
   "execution_count": 2,
   "id": "ca33d7fa",
   "metadata": {
    "execution": {
     "iopub.execute_input": "2023-08-03T07:06:29.554055Z",
     "iopub.status.busy": "2023-08-03T07:06:29.553491Z",
     "iopub.status.idle": "2023-08-03T07:06:43.766083Z",
     "shell.execute_reply": "2023-08-03T07:06:43.765079Z"
    },
    "papermill": {
     "duration": 14.222706,
     "end_time": "2023-08-03T07:06:43.768633",
     "exception": false,
     "start_time": "2023-08-03T07:06:29.545927",
     "status": "completed"
    },
    "tags": []
   },
   "outputs": [
    {
     "name": "stderr",
     "output_type": "stream",
     "text": [
      "/opt/conda/lib/python3.10/site-packages/scipy/__init__.py:146: UserWarning: A NumPy version >=1.16.5 and <1.23.0 is required for this version of SciPy (detected version 1.23.5\n",
      "  warnings.warn(f\"A NumPy version >={np_minversion} and <{np_maxversion}\"\n",
      "/opt/conda/lib/python3.10/site-packages/tensorflow_io/python/ops/__init__.py:98: UserWarning: unable to load libtensorflow_io_plugins.so: unable to open file: libtensorflow_io_plugins.so, from paths: ['/opt/conda/lib/python3.10/site-packages/tensorflow_io/python/ops/libtensorflow_io_plugins.so']\n",
      "caused by: ['/opt/conda/lib/python3.10/site-packages/tensorflow_io/python/ops/libtensorflow_io_plugins.so: undefined symbol: _ZN3tsl6StatusC1EN10tensorflow5error4CodeESt17basic_string_viewIcSt11char_traitsIcEENS_14SourceLocationE']\n",
      "  warnings.warn(f\"unable to load libtensorflow_io_plugins.so: {e}\")\n",
      "/opt/conda/lib/python3.10/site-packages/tensorflow_io/python/ops/__init__.py:104: UserWarning: file system plugins are not loaded: unable to open file: libtensorflow_io.so, from paths: ['/opt/conda/lib/python3.10/site-packages/tensorflow_io/python/ops/libtensorflow_io.so']\n",
      "caused by: ['/opt/conda/lib/python3.10/site-packages/tensorflow_io/python/ops/libtensorflow_io.so: undefined symbol: _ZTVN10tensorflow13GcsFileSystemE']\n",
      "  warnings.warn(f\"file system plugins are not loaded: {e}\")\n"
     ]
    }
   ],
   "source": [
    "import random\n",
    "import spacy\n",
    "from spacy.training import Example\n",
    "from spacy.pipeline.textcat import DEFAULT_SINGLE_TEXTCAT_MODEL"
   ]
  },
  {
   "cell_type": "code",
   "execution_count": 3,
   "id": "e0123c86",
   "metadata": {
    "execution": {
     "iopub.execute_input": "2023-08-03T07:06:43.785643Z",
     "iopub.status.busy": "2023-08-03T07:06:43.784743Z",
     "iopub.status.idle": "2023-08-03T07:06:43.856392Z",
     "shell.execute_reply": "2023-08-03T07:06:43.855352Z"
    },
    "papermill": {
     "duration": 0.083708,
     "end_time": "2023-08-03T07:06:43.858935",
     "exception": false,
     "start_time": "2023-08-03T07:06:43.775227",
     "status": "completed"
    },
    "tags": []
   },
   "outputs": [],
   "source": [
    "train_df = pd.read_csv('/kaggle/input/nlp-getting-started/train.csv')\n",
    "test_df = pd.read_csv('/kaggle/input/nlp-getting-started/test.csv')"
   ]
  },
  {
   "cell_type": "code",
   "execution_count": 4,
   "id": "8b6b8ca6",
   "metadata": {
    "execution": {
     "iopub.execute_input": "2023-08-03T07:06:43.874300Z",
     "iopub.status.busy": "2023-08-03T07:06:43.873898Z",
     "iopub.status.idle": "2023-08-03T07:06:43.903741Z",
     "shell.execute_reply": "2023-08-03T07:06:43.902661Z"
    },
    "papermill": {
     "duration": 0.040707,
     "end_time": "2023-08-03T07:06:43.906397",
     "exception": false,
     "start_time": "2023-08-03T07:06:43.865690",
     "status": "completed"
    },
    "tags": []
   },
   "outputs": [
    {
     "data": {
      "text/html": [
       "<div>\n",
       "<style scoped>\n",
       "    .dataframe tbody tr th:only-of-type {\n",
       "        vertical-align: middle;\n",
       "    }\n",
       "\n",
       "    .dataframe tbody tr th {\n",
       "        vertical-align: top;\n",
       "    }\n",
       "\n",
       "    .dataframe thead th {\n",
       "        text-align: right;\n",
       "    }\n",
       "</style>\n",
       "<table border=\"1\" class=\"dataframe\">\n",
       "  <thead>\n",
       "    <tr style=\"text-align: right;\">\n",
       "      <th></th>\n",
       "      <th>id</th>\n",
       "      <th>keyword</th>\n",
       "      <th>location</th>\n",
       "      <th>text</th>\n",
       "      <th>target</th>\n",
       "    </tr>\n",
       "  </thead>\n",
       "  <tbody>\n",
       "    <tr>\n",
       "      <th>31</th>\n",
       "      <td>48</td>\n",
       "      <td>ablaze</td>\n",
       "      <td>Birmingham</td>\n",
       "      <td>@bbcmtd Wholesale Markets ablaze http://t.co/l...</td>\n",
       "      <td>1</td>\n",
       "    </tr>\n",
       "    <tr>\n",
       "      <th>32</th>\n",
       "      <td>49</td>\n",
       "      <td>ablaze</td>\n",
       "      <td>Est. September 2012 - Bristol</td>\n",
       "      <td>We always try to bring the heavy. #metal #RT h...</td>\n",
       "      <td>0</td>\n",
       "    </tr>\n",
       "    <tr>\n",
       "      <th>33</th>\n",
       "      <td>50</td>\n",
       "      <td>ablaze</td>\n",
       "      <td>AFRICA</td>\n",
       "      <td>#AFRICANBAZE: Breaking news:Nigeria flag set a...</td>\n",
       "      <td>1</td>\n",
       "    </tr>\n",
       "    <tr>\n",
       "      <th>34</th>\n",
       "      <td>52</td>\n",
       "      <td>ablaze</td>\n",
       "      <td>Philadelphia, PA</td>\n",
       "      <td>Crying out for more! Set me ablaze</td>\n",
       "      <td>0</td>\n",
       "    </tr>\n",
       "    <tr>\n",
       "      <th>35</th>\n",
       "      <td>53</td>\n",
       "      <td>ablaze</td>\n",
       "      <td>London, UK</td>\n",
       "      <td>On plus side LOOK AT THE SKY LAST NIGHT IT WAS...</td>\n",
       "      <td>0</td>\n",
       "    </tr>\n",
       "  </tbody>\n",
       "</table>\n",
       "</div>"
      ],
      "text/plain": [
       "    id keyword                       location  \\\n",
       "31  48  ablaze                     Birmingham   \n",
       "32  49  ablaze  Est. September 2012 - Bristol   \n",
       "33  50  ablaze                         AFRICA   \n",
       "34  52  ablaze               Philadelphia, PA   \n",
       "35  53  ablaze                     London, UK   \n",
       "\n",
       "                                                 text  target  \n",
       "31  @bbcmtd Wholesale Markets ablaze http://t.co/l...       1  \n",
       "32  We always try to bring the heavy. #metal #RT h...       0  \n",
       "33  #AFRICANBAZE: Breaking news:Nigeria flag set a...       1  \n",
       "34                 Crying out for more! Set me ablaze       0  \n",
       "35  On plus side LOOK AT THE SKY LAST NIGHT IT WAS...       0  "
      ]
     },
     "execution_count": 4,
     "metadata": {},
     "output_type": "execute_result"
    }
   ],
   "source": [
    "train_df[pd.notna(train_df['keyword'])].head()"
   ]
  },
  {
   "cell_type": "code",
   "execution_count": 5,
   "id": "7dd69a51",
   "metadata": {
    "execution": {
     "iopub.execute_input": "2023-08-03T07:06:43.922449Z",
     "iopub.status.busy": "2023-08-03T07:06:43.921833Z",
     "iopub.status.idle": "2023-08-03T07:06:43.928332Z",
     "shell.execute_reply": "2023-08-03T07:06:43.927334Z"
    },
    "papermill": {
     "duration": 0.016809,
     "end_time": "2023-08-03T07:06:43.930363",
     "exception": false,
     "start_time": "2023-08-03T07:06:43.913554",
     "status": "completed"
    },
    "tags": []
   },
   "outputs": [
    {
     "data": {
      "text/plain": [
       "(7613, 5)"
      ]
     },
     "execution_count": 5,
     "metadata": {},
     "output_type": "execute_result"
    }
   ],
   "source": [
    "train_df.shape"
   ]
  },
  {
   "cell_type": "code",
   "execution_count": 6,
   "id": "cef64b7e",
   "metadata": {
    "execution": {
     "iopub.execute_input": "2023-08-03T07:06:43.945807Z",
     "iopub.status.busy": "2023-08-03T07:06:43.945443Z",
     "iopub.status.idle": "2023-08-03T07:06:43.956176Z",
     "shell.execute_reply": "2023-08-03T07:06:43.955390Z"
    },
    "papermill": {
     "duration": 0.020958,
     "end_time": "2023-08-03T07:06:43.958081",
     "exception": false,
     "start_time": "2023-08-03T07:06:43.937123",
     "status": "completed"
    },
    "tags": []
   },
   "outputs": [
    {
     "data": {
      "text/html": [
       "<div>\n",
       "<style scoped>\n",
       "    .dataframe tbody tr th:only-of-type {\n",
       "        vertical-align: middle;\n",
       "    }\n",
       "\n",
       "    .dataframe tbody tr th {\n",
       "        vertical-align: top;\n",
       "    }\n",
       "\n",
       "    .dataframe thead th {\n",
       "        text-align: right;\n",
       "    }\n",
       "</style>\n",
       "<table border=\"1\" class=\"dataframe\">\n",
       "  <thead>\n",
       "    <tr style=\"text-align: right;\">\n",
       "      <th></th>\n",
       "      <th>id</th>\n",
       "      <th>keyword</th>\n",
       "      <th>location</th>\n",
       "      <th>text</th>\n",
       "    </tr>\n",
       "  </thead>\n",
       "  <tbody>\n",
       "    <tr>\n",
       "      <th>15</th>\n",
       "      <td>46</td>\n",
       "      <td>ablaze</td>\n",
       "      <td>London</td>\n",
       "      <td>Birmingham Wholesale Market is ablaze BBC News...</td>\n",
       "    </tr>\n",
       "    <tr>\n",
       "      <th>16</th>\n",
       "      <td>47</td>\n",
       "      <td>ablaze</td>\n",
       "      <td>Niall's place | SAF 12 SQUAD |</td>\n",
       "      <td>@sunkxssedharry will you wear shorts for race ...</td>\n",
       "    </tr>\n",
       "    <tr>\n",
       "      <th>17</th>\n",
       "      <td>51</td>\n",
       "      <td>ablaze</td>\n",
       "      <td>NIGERIA</td>\n",
       "      <td>#PreviouslyOnDoyinTv: Toke MakinwaÛªs marriag...</td>\n",
       "    </tr>\n",
       "    <tr>\n",
       "      <th>18</th>\n",
       "      <td>58</td>\n",
       "      <td>ablaze</td>\n",
       "      <td>Live On Webcam</td>\n",
       "      <td>Check these out: http://t.co/rOI2NSmEJJ http:/...</td>\n",
       "    </tr>\n",
       "    <tr>\n",
       "      <th>19</th>\n",
       "      <td>60</td>\n",
       "      <td>ablaze</td>\n",
       "      <td>Los Angeles, Califnordia</td>\n",
       "      <td>PSA: IÛªm splitting my personalities.\\n\\n?? t...</td>\n",
       "    </tr>\n",
       "  </tbody>\n",
       "</table>\n",
       "</div>"
      ],
      "text/plain": [
       "    id keyword                        location  \\\n",
       "15  46  ablaze                          London   \n",
       "16  47  ablaze  Niall's place | SAF 12 SQUAD |   \n",
       "17  51  ablaze                         NIGERIA   \n",
       "18  58  ablaze                  Live On Webcam   \n",
       "19  60  ablaze        Los Angeles, Califnordia   \n",
       "\n",
       "                                                 text  \n",
       "15  Birmingham Wholesale Market is ablaze BBC News...  \n",
       "16  @sunkxssedharry will you wear shorts for race ...  \n",
       "17  #PreviouslyOnDoyinTv: Toke MakinwaÛªs marriag...  \n",
       "18  Check these out: http://t.co/rOI2NSmEJJ http:/...  \n",
       "19  PSA: IÛªm splitting my personalities.\\n\\n?? t...  "
      ]
     },
     "execution_count": 6,
     "metadata": {},
     "output_type": "execute_result"
    }
   ],
   "source": [
    "test_df[pd.notna(test_df['keyword'])].head()"
   ]
  },
  {
   "cell_type": "code",
   "execution_count": 7,
   "id": "8401d3bb",
   "metadata": {
    "execution": {
     "iopub.execute_input": "2023-08-03T07:06:43.974017Z",
     "iopub.status.busy": "2023-08-03T07:06:43.973660Z",
     "iopub.status.idle": "2023-08-03T07:06:43.983276Z",
     "shell.execute_reply": "2023-08-03T07:06:43.982210Z"
    },
    "papermill": {
     "duration": 0.020206,
     "end_time": "2023-08-03T07:06:43.985395",
     "exception": false,
     "start_time": "2023-08-03T07:06:43.965189",
     "status": "completed"
    },
    "tags": []
   },
   "outputs": [
    {
     "data": {
      "text/plain": [
       "(6090, 5)"
      ]
     },
     "execution_count": 7,
     "metadata": {},
     "output_type": "execute_result"
    }
   ],
   "source": [
    "# https://www.geeksforgeeks.org/divide-a-dataframe-in-a-ratio/\n",
    "train_df_part = train_df.sample(frac = 0.8)\n",
    "val_df = train_df.drop(train_df_part.index)\n",
    "train_df_part.shape"
   ]
  },
  {
   "cell_type": "code",
   "execution_count": 8,
   "id": "776f2bae",
   "metadata": {
    "execution": {
     "iopub.execute_input": "2023-08-03T07:06:44.001516Z",
     "iopub.status.busy": "2023-08-03T07:06:44.001091Z",
     "iopub.status.idle": "2023-08-03T07:06:44.008075Z",
     "shell.execute_reply": "2023-08-03T07:06:44.006945Z"
    },
    "papermill": {
     "duration": 0.017581,
     "end_time": "2023-08-03T07:06:44.010192",
     "exception": false,
     "start_time": "2023-08-03T07:06:43.992611",
     "status": "completed"
    },
    "tags": []
   },
   "outputs": [
    {
     "data": {
      "text/plain": [
       "(1523, 5)"
      ]
     },
     "execution_count": 8,
     "metadata": {},
     "output_type": "execute_result"
    }
   ],
   "source": [
    "val_df.shape"
   ]
  },
  {
   "cell_type": "markdown",
   "id": "5cf245d3",
   "metadata": {
    "papermill": {
     "duration": 0.007156,
     "end_time": "2023-08-03T07:06:44.025015",
     "exception": false,
     "start_time": "2023-08-03T07:06:44.017859",
     "status": "completed"
    },
    "tags": []
   },
   "source": [
    "### Create training dataset"
   ]
  },
  {
   "cell_type": "code",
   "execution_count": 9,
   "id": "196aeda6",
   "metadata": {
    "execution": {
     "iopub.execute_input": "2023-08-03T07:06:44.041125Z",
     "iopub.status.busy": "2023-08-03T07:06:44.040707Z",
     "iopub.status.idle": "2023-08-03T07:06:44.046312Z",
     "shell.execute_reply": "2023-08-03T07:06:44.045268Z"
    },
    "papermill": {
     "duration": 0.015992,
     "end_time": "2023-08-03T07:06:44.048252",
     "exception": false,
     "start_time": "2023-08-03T07:06:44.032260",
     "status": "completed"
    },
    "tags": []
   },
   "outputs": [],
   "source": [
    "import re\n",
    "def text_preprocess(text):\n",
    "    text = text.lower()\n",
    "    text = re.sub('[^a-z\\s]', '', text)\n",
    "    return text.strip()"
   ]
  },
  {
   "cell_type": "code",
   "execution_count": 10,
   "id": "6a5226bd",
   "metadata": {
    "execution": {
     "iopub.execute_input": "2023-08-03T07:06:44.064156Z",
     "iopub.status.busy": "2023-08-03T07:06:44.063752Z",
     "iopub.status.idle": "2023-08-03T07:06:44.071086Z",
     "shell.execute_reply": "2023-08-03T07:06:44.070089Z"
    },
    "papermill": {
     "duration": 0.01767,
     "end_time": "2023-08-03T07:06:44.073090",
     "exception": false,
     "start_time": "2023-08-03T07:06:44.055420",
     "status": "completed"
    },
    "tags": []
   },
   "outputs": [],
   "source": [
    "def df_to_spacy_train(df):\n",
    "    train_data = []\n",
    "    for ind, row in df.iterrows():\n",
    "        dic = {'positive': 1, 'negative': 0} if row['target'] else {\"positive\": 0, \"negative\": 1}\n",
    "        train_data.append((text_preprocess(row['text']), {'cats': dic}))\n",
    "    return train_data"
   ]
  },
  {
   "cell_type": "code",
   "execution_count": 11,
   "id": "1c8811bd",
   "metadata": {
    "execution": {
     "iopub.execute_input": "2023-08-03T07:06:44.090081Z",
     "iopub.status.busy": "2023-08-03T07:06:44.089408Z",
     "iopub.status.idle": "2023-08-03T07:06:44.482443Z",
     "shell.execute_reply": "2023-08-03T07:06:44.480613Z"
    },
    "papermill": {
     "duration": 0.404977,
     "end_time": "2023-08-03T07:06:44.485798",
     "exception": false,
     "start_time": "2023-08-03T07:06:44.080821",
     "status": "completed"
    },
    "tags": []
   },
   "outputs": [
    {
     "data": {
      "text/plain": [
       "[('thankkk u all soo much for flooding my notificationsu my fella parsholics r superb amp jus soo awesomelove love u all always frvrgrateful',\n",
       "  {'cats': {'positive': 0, 'negative': 1}}),\n",
       " ('byuwnbeki the sad eyes and tacit stories in your heart that night in which the whirlwind was raging',\n",
       "  {'cats': {'positive': 1, 'negative': 0}})]"
      ]
     },
     "execution_count": 11,
     "metadata": {},
     "output_type": "execute_result"
    }
   ],
   "source": [
    "train_data = df_to_spacy_train(train_df_part)\n",
    "train_data[:2]"
   ]
  },
  {
   "cell_type": "code",
   "execution_count": 12,
   "id": "a4f5a8de",
   "metadata": {
    "execution": {
     "iopub.execute_input": "2023-08-03T07:06:44.503053Z",
     "iopub.status.busy": "2023-08-03T07:06:44.502645Z",
     "iopub.status.idle": "2023-08-03T07:06:45.525297Z",
     "shell.execute_reply": "2023-08-03T07:06:45.524004Z"
    },
    "papermill": {
     "duration": 1.034295,
     "end_time": "2023-08-03T07:06:45.527874",
     "exception": false,
     "start_time": "2023-08-03T07:06:44.493579",
     "status": "completed"
    },
    "tags": []
   },
   "outputs": [],
   "source": [
    "nlp = spacy.load(\"en_core_web_sm\")\n",
    "config = {\n",
    "    \"threshold\": 0.5,\n",
    "    \"model\": DEFAULT_SINGLE_TEXTCAT_MODEL\n",
    "}\n",
    "textcat = nlp.add_pipe(\"textcat\", config=config)"
   ]
  },
  {
   "cell_type": "code",
   "execution_count": 13,
   "id": "2d875e7b",
   "metadata": {
    "execution": {
     "iopub.execute_input": "2023-08-03T07:06:45.544358Z",
     "iopub.status.busy": "2023-08-03T07:06:45.543955Z",
     "iopub.status.idle": "2023-08-03T07:06:47.235639Z",
     "shell.execute_reply": "2023-08-03T07:06:47.234511Z"
    },
    "papermill": {
     "duration": 1.702715,
     "end_time": "2023-08-03T07:06:47.238079",
     "exception": false,
     "start_time": "2023-08-03T07:06:45.535364",
     "status": "completed"
    },
    "tags": []
   },
   "outputs": [],
   "source": [
    "textcat.add_label(\"positive\")\n",
    "textcat.add_label(\"negative\")\n",
    "\n",
    "# initializes the TextCategorizer model's weights with the training examples\n",
    "train_examples = [Example.from_dict(nlp.make_doc(text), label) for text, label in train_data]\n",
    "textcat.initialize(lambda: train_examples, nlp=nlp)"
   ]
  },
  {
   "cell_type": "markdown",
   "id": "893dd278",
   "metadata": {
    "papermill": {
     "duration": 0.006995,
     "end_time": "2023-08-03T07:06:47.252556",
     "exception": false,
     "start_time": "2023-08-03T07:06:47.245561",
     "status": "completed"
    },
    "tags": []
   },
   "source": [
    "### Train"
   ]
  },
  {
   "cell_type": "code",
   "execution_count": 14,
   "id": "2009e44c",
   "metadata": {
    "execution": {
     "iopub.execute_input": "2023-08-03T07:06:47.268784Z",
     "iopub.status.busy": "2023-08-03T07:06:47.268070Z",
     "iopub.status.idle": "2023-08-03T07:13:27.795460Z",
     "shell.execute_reply": "2023-08-03T07:13:27.794202Z"
    },
    "papermill": {
     "duration": 400.538551,
     "end_time": "2023-08-03T07:13:27.798227",
     "exception": false,
     "start_time": "2023-08-03T07:06:47.259676",
     "status": "completed"
    },
    "tags": []
   },
   "outputs": [],
   "source": [
    "epochs=5\n",
    "\n",
    "with nlp.select_pipes(enable=\"textcat\"):\n",
    "    optimizer = nlp.resume_training()\n",
    "    \n",
    "    for i in range(epochs):\n",
    "        random.shuffle(train_data)\n",
    "        for text, label in train_data:\n",
    "            doc = nlp.make_doc(text)\n",
    "            example = Example.from_dict(doc, label)\n",
    "            nlp.update([example], sgd=optimizer)"
   ]
  },
  {
   "cell_type": "code",
   "execution_count": 15,
   "id": "3bf745b3",
   "metadata": {
    "execution": {
     "iopub.execute_input": "2023-08-03T07:13:27.815351Z",
     "iopub.status.busy": "2023-08-03T07:13:27.814958Z",
     "iopub.status.idle": "2023-08-03T07:13:27.826761Z",
     "shell.execute_reply": "2023-08-03T07:13:27.825696Z"
    },
    "papermill": {
     "duration": 0.022854,
     "end_time": "2023-08-03T07:13:27.829043",
     "exception": false,
     "start_time": "2023-08-03T07:13:27.806189",
     "status": "completed"
    },
    "tags": []
   },
   "outputs": [
    {
     "data": {
      "text/html": [
       "<div>\n",
       "<style scoped>\n",
       "    .dataframe tbody tr th:only-of-type {\n",
       "        vertical-align: middle;\n",
       "    }\n",
       "\n",
       "    .dataframe tbody tr th {\n",
       "        vertical-align: top;\n",
       "    }\n",
       "\n",
       "    .dataframe thead th {\n",
       "        text-align: right;\n",
       "    }\n",
       "</style>\n",
       "<table border=\"1\" class=\"dataframe\">\n",
       "  <thead>\n",
       "    <tr style=\"text-align: right;\">\n",
       "      <th></th>\n",
       "      <th>id</th>\n",
       "      <th>keyword</th>\n",
       "      <th>location</th>\n",
       "      <th>text</th>\n",
       "      <th>target</th>\n",
       "    </tr>\n",
       "  </thead>\n",
       "  <tbody>\n",
       "    <tr>\n",
       "      <th>3</th>\n",
       "      <td>6</td>\n",
       "      <td>NaN</td>\n",
       "      <td>NaN</td>\n",
       "      <td>13,000 people receive #wildfires evacuation or...</td>\n",
       "      <td>1</td>\n",
       "    </tr>\n",
       "    <tr>\n",
       "      <th>4</th>\n",
       "      <td>7</td>\n",
       "      <td>NaN</td>\n",
       "      <td>NaN</td>\n",
       "      <td>Just got sent this photo from Ruby #Alaska as ...</td>\n",
       "      <td>1</td>\n",
       "    </tr>\n",
       "    <tr>\n",
       "      <th>10</th>\n",
       "      <td>16</td>\n",
       "      <td>NaN</td>\n",
       "      <td>NaN</td>\n",
       "      <td>Three people died from the heat wave so far</td>\n",
       "      <td>1</td>\n",
       "    </tr>\n",
       "    <tr>\n",
       "      <th>12</th>\n",
       "      <td>18</td>\n",
       "      <td>NaN</td>\n",
       "      <td>NaN</td>\n",
       "      <td>#raining #flooding #Florida #TampaBay #Tampa 1...</td>\n",
       "      <td>1</td>\n",
       "    </tr>\n",
       "    <tr>\n",
       "      <th>22</th>\n",
       "      <td>33</td>\n",
       "      <td>NaN</td>\n",
       "      <td>NaN</td>\n",
       "      <td>Love skiing</td>\n",
       "      <td>0</td>\n",
       "    </tr>\n",
       "  </tbody>\n",
       "</table>\n",
       "</div>"
      ],
      "text/plain": [
       "    id keyword location                                               text  \\\n",
       "3    6     NaN      NaN  13,000 people receive #wildfires evacuation or...   \n",
       "4    7     NaN      NaN  Just got sent this photo from Ruby #Alaska as ...   \n",
       "10  16     NaN      NaN        Three people died from the heat wave so far   \n",
       "12  18     NaN      NaN  #raining #flooding #Florida #TampaBay #Tampa 1...   \n",
       "22  33     NaN      NaN                                        Love skiing   \n",
       "\n",
       "    target  \n",
       "3        1  \n",
       "4        1  \n",
       "10       1  \n",
       "12       1  \n",
       "22       0  "
      ]
     },
     "execution_count": 15,
     "metadata": {},
     "output_type": "execute_result"
    }
   ],
   "source": [
    "val_df.head()"
   ]
  },
  {
   "cell_type": "code",
   "execution_count": 16,
   "id": "d667a718",
   "metadata": {
    "execution": {
     "iopub.execute_input": "2023-08-03T07:13:27.845660Z",
     "iopub.status.busy": "2023-08-03T07:13:27.845246Z",
     "iopub.status.idle": "2023-08-03T07:13:27.851148Z",
     "shell.execute_reply": "2023-08-03T07:13:27.850275Z"
    },
    "papermill": {
     "duration": 0.016671,
     "end_time": "2023-08-03T07:13:27.853221",
     "exception": false,
     "start_time": "2023-08-03T07:13:27.836550",
     "status": "completed"
    },
    "tags": []
   },
   "outputs": [],
   "source": [
    "def test_model(df):\n",
    "    predictions = []\n",
    "    for ind, row in df.iterrows():\n",
    "        doc = nlp(text_preprocess(row['text']))\n",
    "        pred = 1 if doc.cats['positive'] > doc.cats['negative'] else 0\n",
    "        predictions.append(pred)\n",
    "    df['prediction'] = predictions\n",
    "    return df"
   ]
  },
  {
   "cell_type": "code",
   "execution_count": 17,
   "id": "24852112",
   "metadata": {
    "execution": {
     "iopub.execute_input": "2023-08-03T07:13:27.869850Z",
     "iopub.status.busy": "2023-08-03T07:13:27.869463Z",
     "iopub.status.idle": "2023-08-03T07:13:42.752340Z",
     "shell.execute_reply": "2023-08-03T07:13:42.751199Z"
    },
    "papermill": {
     "duration": 14.894282,
     "end_time": "2023-08-03T07:13:42.755055",
     "exception": false,
     "start_time": "2023-08-03T07:13:27.860773",
     "status": "completed"
    },
    "tags": []
   },
   "outputs": [],
   "source": [
    "prediction = test_model(val_df)"
   ]
  },
  {
   "cell_type": "code",
   "execution_count": 18,
   "id": "c9d47169",
   "metadata": {
    "execution": {
     "iopub.execute_input": "2023-08-03T07:13:42.772382Z",
     "iopub.status.busy": "2023-08-03T07:13:42.771688Z",
     "iopub.status.idle": "2023-08-03T07:13:42.783846Z",
     "shell.execute_reply": "2023-08-03T07:13:42.782799Z"
    },
    "papermill": {
     "duration": 0.023348,
     "end_time": "2023-08-03T07:13:42.786075",
     "exception": false,
     "start_time": "2023-08-03T07:13:42.762727",
     "status": "completed"
    },
    "tags": []
   },
   "outputs": [
    {
     "data": {
      "text/html": [
       "<div>\n",
       "<style scoped>\n",
       "    .dataframe tbody tr th:only-of-type {\n",
       "        vertical-align: middle;\n",
       "    }\n",
       "\n",
       "    .dataframe tbody tr th {\n",
       "        vertical-align: top;\n",
       "    }\n",
       "\n",
       "    .dataframe thead th {\n",
       "        text-align: right;\n",
       "    }\n",
       "</style>\n",
       "<table border=\"1\" class=\"dataframe\">\n",
       "  <thead>\n",
       "    <tr style=\"text-align: right;\">\n",
       "      <th></th>\n",
       "      <th>id</th>\n",
       "      <th>keyword</th>\n",
       "      <th>location</th>\n",
       "      <th>text</th>\n",
       "      <th>target</th>\n",
       "      <th>prediction</th>\n",
       "    </tr>\n",
       "  </thead>\n",
       "  <tbody>\n",
       "    <tr>\n",
       "      <th>3</th>\n",
       "      <td>6</td>\n",
       "      <td>NaN</td>\n",
       "      <td>NaN</td>\n",
       "      <td>13,000 people receive #wildfires evacuation or...</td>\n",
       "      <td>1</td>\n",
       "      <td>1</td>\n",
       "    </tr>\n",
       "    <tr>\n",
       "      <th>4</th>\n",
       "      <td>7</td>\n",
       "      <td>NaN</td>\n",
       "      <td>NaN</td>\n",
       "      <td>Just got sent this photo from Ruby #Alaska as ...</td>\n",
       "      <td>1</td>\n",
       "      <td>0</td>\n",
       "    </tr>\n",
       "    <tr>\n",
       "      <th>10</th>\n",
       "      <td>16</td>\n",
       "      <td>NaN</td>\n",
       "      <td>NaN</td>\n",
       "      <td>Three people died from the heat wave so far</td>\n",
       "      <td>1</td>\n",
       "      <td>1</td>\n",
       "    </tr>\n",
       "    <tr>\n",
       "      <th>12</th>\n",
       "      <td>18</td>\n",
       "      <td>NaN</td>\n",
       "      <td>NaN</td>\n",
       "      <td>#raining #flooding #Florida #TampaBay #Tampa 1...</td>\n",
       "      <td>1</td>\n",
       "      <td>0</td>\n",
       "    </tr>\n",
       "    <tr>\n",
       "      <th>22</th>\n",
       "      <td>33</td>\n",
       "      <td>NaN</td>\n",
       "      <td>NaN</td>\n",
       "      <td>Love skiing</td>\n",
       "      <td>0</td>\n",
       "      <td>0</td>\n",
       "    </tr>\n",
       "  </tbody>\n",
       "</table>\n",
       "</div>"
      ],
      "text/plain": [
       "    id keyword location                                               text  \\\n",
       "3    6     NaN      NaN  13,000 people receive #wildfires evacuation or...   \n",
       "4    7     NaN      NaN  Just got sent this photo from Ruby #Alaska as ...   \n",
       "10  16     NaN      NaN        Three people died from the heat wave so far   \n",
       "12  18     NaN      NaN  #raining #flooding #Florida #TampaBay #Tampa 1...   \n",
       "22  33     NaN      NaN                                        Love skiing   \n",
       "\n",
       "    target  prediction  \n",
       "3        1           1  \n",
       "4        1           0  \n",
       "10       1           1  \n",
       "12       1           0  \n",
       "22       0           0  "
      ]
     },
     "execution_count": 18,
     "metadata": {},
     "output_type": "execute_result"
    }
   ],
   "source": [
    "prediction.head()"
   ]
  },
  {
   "cell_type": "code",
   "execution_count": 19,
   "id": "8ba70b06",
   "metadata": {
    "execution": {
     "iopub.execute_input": "2023-08-03T07:13:42.803582Z",
     "iopub.status.busy": "2023-08-03T07:13:42.803220Z",
     "iopub.status.idle": "2023-08-03T07:13:42.811158Z",
     "shell.execute_reply": "2023-08-03T07:13:42.810347Z"
    },
    "papermill": {
     "duration": 0.018841,
     "end_time": "2023-08-03T07:13:42.813035",
     "exception": false,
     "start_time": "2023-08-03T07:13:42.794194",
     "status": "completed"
    },
    "tags": []
   },
   "outputs": [
    {
     "data": {
      "text/plain": [
       "429"
      ]
     },
     "execution_count": 19,
     "metadata": {},
     "output_type": "execute_result"
    }
   ],
   "source": [
    "# https://pandas.pydata.org/docs/getting_started/intro_tutorials/03_subset_data.html\n",
    "tp = len(prediction[(prediction['target']==1) & (prediction['prediction']==1)])\n",
    "tp"
   ]
  },
  {
   "cell_type": "code",
   "execution_count": 20,
   "id": "5bb0a87f",
   "metadata": {
    "execution": {
     "iopub.execute_input": "2023-08-03T07:13:42.830763Z",
     "iopub.status.busy": "2023-08-03T07:13:42.829885Z",
     "iopub.status.idle": "2023-08-03T07:13:42.837788Z",
     "shell.execute_reply": "2023-08-03T07:13:42.836845Z"
    },
    "papermill": {
     "duration": 0.018947,
     "end_time": "2023-08-03T07:13:42.839838",
     "exception": false,
     "start_time": "2023-08-03T07:13:42.820891",
     "status": "completed"
    },
    "tags": []
   },
   "outputs": [
    {
     "data": {
      "text/plain": [
       "724"
      ]
     },
     "execution_count": 20,
     "metadata": {},
     "output_type": "execute_result"
    }
   ],
   "source": [
    "tn = len(prediction[(prediction['target']==0) & (prediction['prediction']==0)])\n",
    "tn"
   ]
  },
  {
   "cell_type": "code",
   "execution_count": 21,
   "id": "6b8271e8",
   "metadata": {
    "execution": {
     "iopub.execute_input": "2023-08-03T07:13:42.857569Z",
     "iopub.status.busy": "2023-08-03T07:13:42.857210Z",
     "iopub.status.idle": "2023-08-03T07:13:42.865148Z",
     "shell.execute_reply": "2023-08-03T07:13:42.864046Z"
    },
    "papermill": {
     "duration": 0.01937,
     "end_time": "2023-08-03T07:13:42.867200",
     "exception": false,
     "start_time": "2023-08-03T07:13:42.847830",
     "status": "completed"
    },
    "tags": []
   },
   "outputs": [
    {
     "data": {
      "text/plain": [
       "139"
      ]
     },
     "execution_count": 21,
     "metadata": {},
     "output_type": "execute_result"
    }
   ],
   "source": [
    "fp = len(prediction[(prediction['target']==0) & (prediction['prediction']==1)])\n",
    "fp"
   ]
  },
  {
   "cell_type": "code",
   "execution_count": 22,
   "id": "0a11b8b2",
   "metadata": {
    "execution": {
     "iopub.execute_input": "2023-08-03T07:13:42.884696Z",
     "iopub.status.busy": "2023-08-03T07:13:42.884346Z",
     "iopub.status.idle": "2023-08-03T07:13:42.891861Z",
     "shell.execute_reply": "2023-08-03T07:13:42.890972Z"
    },
    "papermill": {
     "duration": 0.018671,
     "end_time": "2023-08-03T07:13:42.893841",
     "exception": false,
     "start_time": "2023-08-03T07:13:42.875170",
     "status": "completed"
    },
    "tags": []
   },
   "outputs": [
    {
     "data": {
      "text/plain": [
       "231"
      ]
     },
     "execution_count": 22,
     "metadata": {},
     "output_type": "execute_result"
    }
   ],
   "source": [
    "fn = len(prediction[(prediction['target']==1) & (prediction['prediction']==0)])\n",
    "fn"
   ]
  },
  {
   "cell_type": "code",
   "execution_count": 23,
   "id": "779fada4",
   "metadata": {
    "execution": {
     "iopub.execute_input": "2023-08-03T07:13:42.911576Z",
     "iopub.status.busy": "2023-08-03T07:13:42.911242Z",
     "iopub.status.idle": "2023-08-03T07:13:42.916181Z",
     "shell.execute_reply": "2023-08-03T07:13:42.915211Z"
    },
    "papermill": {
     "duration": 0.01631,
     "end_time": "2023-08-03T07:13:42.918274",
     "exception": false,
     "start_time": "2023-08-03T07:13:42.901964",
     "status": "completed"
    },
    "tags": []
   },
   "outputs": [],
   "source": [
    "precision = tp/(tp+fp)\n",
    "recall = tp/(tp+fn)\n",
    "accuracy = (tp+tn)/len(prediction)\n",
    "f1 = 2*precision*recall/(precision+recall)"
   ]
  },
  {
   "cell_type": "code",
   "execution_count": 24,
   "id": "234c3b8b",
   "metadata": {
    "execution": {
     "iopub.execute_input": "2023-08-03T07:13:42.936017Z",
     "iopub.status.busy": "2023-08-03T07:13:42.935668Z",
     "iopub.status.idle": "2023-08-03T07:13:42.941469Z",
     "shell.execute_reply": "2023-08-03T07:13:42.940481Z"
    },
    "papermill": {
     "duration": 0.017249,
     "end_time": "2023-08-03T07:13:42.943671",
     "exception": false,
     "start_time": "2023-08-03T07:13:42.926422",
     "status": "completed"
    },
    "tags": []
   },
   "outputs": [
    {
     "name": "stdout",
     "output_type": "stream",
     "text": [
      "precision:  0.7552816901408451\n",
      "recall:  0.65\n",
      "accuracy:  0.7570584372948129\n",
      "f1:  0.6986970684039088\n"
     ]
    }
   ],
   "source": [
    "print('precision: ', precision)\n",
    "print('recall: ', recall)\n",
    "print('accuracy: ', accuracy)\n",
    "print('f1: ', f1)"
   ]
  },
  {
   "cell_type": "markdown",
   "id": "9f81edf5",
   "metadata": {
    "papermill": {
     "duration": 0.007851,
     "end_time": "2023-08-03T07:13:42.959636",
     "exception": false,
     "start_time": "2023-08-03T07:13:42.951785",
     "status": "completed"
    },
    "tags": []
   },
   "source": [
    "#### preprocess only the val set:\n",
    "    precision:  0.7044917257683215\n",
    "    recall:  0.9254658385093167\n",
    "    accuracy:  0.804333552199606\n",
    "    f1:  0.7999999999999999\n",
    "#### no preprocess at all:\n",
    "    precision:  0.7813299232736572\n",
    "    recall:  0.9487577639751553\n",
    "    accuracy:  0.866053841103086\n",
    "    f1:  0.8569424964936886"
   ]
  },
  {
   "cell_type": "code",
   "execution_count": null,
   "id": "3b0279d8",
   "metadata": {
    "papermill": {
     "duration": 0.007789,
     "end_time": "2023-08-03T07:13:42.975560",
     "exception": false,
     "start_time": "2023-08-03T07:13:42.967771",
     "status": "completed"
    },
    "tags": []
   },
   "outputs": [],
   "source": []
  }
 ],
 "metadata": {
  "kernelspec": {
   "display_name": "Python 3",
   "language": "python",
   "name": "python3"
  },
  "language_info": {
   "codemirror_mode": {
    "name": "ipython",
    "version": 3
   },
   "file_extension": ".py",
   "mimetype": "text/x-python",
   "name": "python",
   "nbconvert_exporter": "python",
   "pygments_lexer": "ipython3",
   "version": "3.10.12"
  },
  "papermill": {
   "default_parameters": {},
   "duration": 445.777981,
   "end_time": "2023-08-03T07:13:46.035048",
   "environment_variables": {},
   "exception": null,
   "input_path": "__notebook__.ipynb",
   "output_path": "__notebook__.ipynb",
   "parameters": {},
   "start_time": "2023-08-03T07:06:20.257067",
   "version": "2.4.0"
  }
 },
 "nbformat": 4,
 "nbformat_minor": 5
}
