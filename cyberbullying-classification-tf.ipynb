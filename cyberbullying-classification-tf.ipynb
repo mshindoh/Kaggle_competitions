{
 "cells": [
  {
   "cell_type": "markdown",
   "id": "ab8277f3",
   "metadata": {
    "papermill": {
     "duration": 0.005802,
     "end_time": "2023-08-05T05:18:06.840715",
     "exception": false,
     "start_time": "2023-08-05T05:18:06.834913",
     "status": "completed"
    },
    "tags": []
   },
   "source": [
    "Cyberbullying multi-class classification with TensorFlow\n",
    "\n",
    "August 2023\n",
    "\n",
    "Reference: \n",
    "* https://www.kaggle.com/code/mshindoh/exercise-binary-classification"
   ]
  },
  {
   "cell_type": "code",
   "execution_count": 1,
   "id": "b01bbac1",
   "metadata": {
    "_cell_guid": "b1076dfc-b9ad-4769-8c92-a6c4dae69d19",
    "_uuid": "8f2839f25d086af736a60e9eeb907d3b93b6e0e5",
    "execution": {
     "iopub.execute_input": "2023-08-05T05:18:06.853987Z",
     "iopub.status.busy": "2023-08-05T05:18:06.853348Z",
     "iopub.status.idle": "2023-08-05T05:18:06.877089Z",
     "shell.execute_reply": "2023-08-05T05:18:06.875725Z"
    },
    "papermill": {
     "duration": 0.033407,
     "end_time": "2023-08-05T05:18:06.879885",
     "exception": false,
     "start_time": "2023-08-05T05:18:06.846478",
     "status": "completed"
    },
    "tags": []
   },
   "outputs": [
    {
     "name": "stdout",
     "output_type": "stream",
     "text": [
      "/kaggle/input/cyberbullying-classification/cyberbullying_tweets.csv\n"
     ]
    }
   ],
   "source": [
    "# This Python 3 environment comes with many helpful analytics libraries installed\n",
    "# It is defined by the kaggle/python Docker image: https://github.com/kaggle/docker-python\n",
    "# For example, here's several helpful packages to load\n",
    "\n",
    "import numpy as np # linear algebra\n",
    "import pandas as pd # data processing, CSV file I/O (e.g. pd.read_csv)\n",
    "\n",
    "# Input data files are available in the read-only \"../input/\" directory\n",
    "# For example, running this (by clicking run or pressing Shift+Enter) will list all files under the input directory\n",
    "\n",
    "import os\n",
    "for dirname, _, filenames in os.walk('/kaggle/input'):\n",
    "    for filename in filenames:\n",
    "        print(os.path.join(dirname, filename))\n",
    "\n",
    "# You can write up to 20GB to the current directory (/kaggle/working/) that gets preserved as output when you create a version using \"Save & Run All\" \n",
    "# You can also write temporary files to /kaggle/temp/, but they won't be saved outside of the current session"
   ]
  },
  {
   "cell_type": "code",
   "execution_count": 2,
   "id": "0b4c99ce",
   "metadata": {
    "execution": {
     "iopub.execute_input": "2023-08-05T05:18:06.892272Z",
     "iopub.status.busy": "2023-08-05T05:18:06.891853Z",
     "iopub.status.idle": "2023-08-05T05:18:06.938725Z",
     "shell.execute_reply": "2023-08-05T05:18:06.937359Z"
    },
    "papermill": {
     "duration": 0.056419,
     "end_time": "2023-08-05T05:18:06.941741",
     "exception": false,
     "start_time": "2023-08-05T05:18:06.885322",
     "status": "completed"
    },
    "tags": []
   },
   "outputs": [
    {
     "name": "stderr",
     "output_type": "stream",
     "text": [
      "/tmp/ipykernel_20/3338970720.py:3: MatplotlibDeprecationWarning: The seaborn styles shipped by Matplotlib are deprecated since 3.6, as they no longer correspond to the styles shipped by seaborn. However, they will remain available as 'seaborn-v0_8-<style>'. Alternatively, directly use the seaborn API instead.\n",
      "  plt.style.use('seaborn-whitegrid')\n"
     ]
    }
   ],
   "source": [
    "# Setup plotting\n",
    "import matplotlib.pyplot as plt\n",
    "plt.style.use('seaborn-whitegrid')\n",
    "# Set Matplotlib defaults\n",
    "plt.rc('figure', autolayout=True)\n",
    "plt.rc('axes', labelweight='bold', labelsize='large',\n",
    "       titleweight='bold', titlesize=18, titlepad=10)\n",
    "plt.rc('animation', html='html5')\n",
    "\n",
    "# Setup feedback system\n",
    "from learntools.core import binder\n",
    "binder.bind(globals())\n",
    "from learntools.deep_learning_intro.ex6 import *"
   ]
  },
  {
   "cell_type": "markdown",
   "id": "227a1d21",
   "metadata": {
    "papermill": {
     "duration": 0.005141,
     "end_time": "2023-08-05T05:18:06.952286",
     "exception": false,
     "start_time": "2023-08-05T05:18:06.947145",
     "status": "completed"
    },
    "tags": []
   },
   "source": [
    "Load dataset"
   ]
  },
  {
   "cell_type": "code",
   "execution_count": 3,
   "id": "6454fdf0",
   "metadata": {
    "execution": {
     "iopub.execute_input": "2023-08-05T05:18:06.965019Z",
     "iopub.status.busy": "2023-08-05T05:18:06.964590Z",
     "iopub.status.idle": "2023-08-05T05:18:08.493430Z",
     "shell.execute_reply": "2023-08-05T05:18:08.492245Z"
    },
    "papermill": {
     "duration": 1.538685,
     "end_time": "2023-08-05T05:18:08.496419",
     "exception": false,
     "start_time": "2023-08-05T05:18:06.957734",
     "status": "completed"
    },
    "tags": []
   },
   "outputs": [
    {
     "name": "stderr",
     "output_type": "stream",
     "text": [
      "/opt/conda/lib/python3.10/site-packages/scipy/__init__.py:146: UserWarning: A NumPy version >=1.16.5 and <1.23.0 is required for this version of SciPy (detected version 1.23.5\n",
      "  warnings.warn(f\"A NumPy version >={np_minversion} and <{np_maxversion}\"\n"
     ]
    }
   ],
   "source": [
    "import pandas as pd\n",
    "\n",
    "from sklearn.model_selection import train_test_split\n",
    "from sklearn.preprocessing import StandardScaler, OneHotEncoder\n",
    "from sklearn.impute import SimpleImputer\n",
    "from sklearn.pipeline import make_pipeline\n",
    "from sklearn.compose import make_column_transformer"
   ]
  },
  {
   "cell_type": "code",
   "execution_count": 4,
   "id": "2a20c254",
   "metadata": {
    "execution": {
     "iopub.execute_input": "2023-08-05T05:18:08.509970Z",
     "iopub.status.busy": "2023-08-05T05:18:08.509542Z",
     "iopub.status.idle": "2023-08-05T05:18:08.787795Z",
     "shell.execute_reply": "2023-08-05T05:18:08.786844Z"
    },
    "papermill": {
     "duration": 0.287635,
     "end_time": "2023-08-05T05:18:08.790157",
     "exception": false,
     "start_time": "2023-08-05T05:18:08.502522",
     "status": "completed"
    },
    "tags": []
   },
   "outputs": [
    {
     "data": {
      "text/html": [
       "<div>\n",
       "<style scoped>\n",
       "    .dataframe tbody tr th:only-of-type {\n",
       "        vertical-align: middle;\n",
       "    }\n",
       "\n",
       "    .dataframe tbody tr th {\n",
       "        vertical-align: top;\n",
       "    }\n",
       "\n",
       "    .dataframe thead th {\n",
       "        text-align: right;\n",
       "    }\n",
       "</style>\n",
       "<table border=\"1\" class=\"dataframe\">\n",
       "  <thead>\n",
       "    <tr style=\"text-align: right;\">\n",
       "      <th></th>\n",
       "      <th>tweet_text</th>\n",
       "      <th>cyberbullying_type</th>\n",
       "    </tr>\n",
       "  </thead>\n",
       "  <tbody>\n",
       "    <tr>\n",
       "      <th>0</th>\n",
       "      <td>In other words #katandandre, your food was cra...</td>\n",
       "      <td>not_cyberbullying</td>\n",
       "    </tr>\n",
       "    <tr>\n",
       "      <th>1</th>\n",
       "      <td>Why is #aussietv so white? #MKR #theblock #ImA...</td>\n",
       "      <td>not_cyberbullying</td>\n",
       "    </tr>\n",
       "    <tr>\n",
       "      <th>2</th>\n",
       "      <td>@XochitlSuckkks a classy whore? Or more red ve...</td>\n",
       "      <td>not_cyberbullying</td>\n",
       "    </tr>\n",
       "    <tr>\n",
       "      <th>3</th>\n",
       "      <td>@Jason_Gio meh. :P  thanks for the heads up, b...</td>\n",
       "      <td>not_cyberbullying</td>\n",
       "    </tr>\n",
       "    <tr>\n",
       "      <th>4</th>\n",
       "      <td>@RudhoeEnglish This is an ISIS account pretend...</td>\n",
       "      <td>not_cyberbullying</td>\n",
       "    </tr>\n",
       "  </tbody>\n",
       "</table>\n",
       "</div>"
      ],
      "text/plain": [
       "                                          tweet_text cyberbullying_type\n",
       "0  In other words #katandandre, your food was cra...  not_cyberbullying\n",
       "1  Why is #aussietv so white? #MKR #theblock #ImA...  not_cyberbullying\n",
       "2  @XochitlSuckkks a classy whore? Or more red ve...  not_cyberbullying\n",
       "3  @Jason_Gio meh. :P  thanks for the heads up, b...  not_cyberbullying\n",
       "4  @RudhoeEnglish This is an ISIS account pretend...  not_cyberbullying"
      ]
     },
     "execution_count": 4,
     "metadata": {},
     "output_type": "execute_result"
    }
   ],
   "source": [
    "df = pd.read_csv('/kaggle/input/cyberbullying-classification/cyberbullying_tweets.csv')\n",
    "df.head()"
   ]
  },
  {
   "cell_type": "code",
   "execution_count": 5,
   "id": "a8dc8257",
   "metadata": {
    "execution": {
     "iopub.execute_input": "2023-08-05T05:18:08.804166Z",
     "iopub.status.busy": "2023-08-05T05:18:08.803226Z",
     "iopub.status.idle": "2023-08-05T05:18:08.809746Z",
     "shell.execute_reply": "2023-08-05T05:18:08.808872Z"
    },
    "papermill": {
     "duration": 0.015822,
     "end_time": "2023-08-05T05:18:08.811906",
     "exception": false,
     "start_time": "2023-08-05T05:18:08.796084",
     "status": "completed"
    },
    "tags": []
   },
   "outputs": [
    {
     "data": {
      "text/plain": [
       "(47692, 2)"
      ]
     },
     "execution_count": 5,
     "metadata": {},
     "output_type": "execute_result"
    }
   ],
   "source": [
    "df.shape"
   ]
  },
  {
   "cell_type": "code",
   "execution_count": 6,
   "id": "62219289",
   "metadata": {
    "execution": {
     "iopub.execute_input": "2023-08-05T05:18:08.826385Z",
     "iopub.status.busy": "2023-08-05T05:18:08.825276Z",
     "iopub.status.idle": "2023-08-05T05:18:08.833508Z",
     "shell.execute_reply": "2023-08-05T05:18:08.832688Z"
    },
    "papermill": {
     "duration": 0.017842,
     "end_time": "2023-08-05T05:18:08.835798",
     "exception": false,
     "start_time": "2023-08-05T05:18:08.817956",
     "status": "completed"
    },
    "tags": []
   },
   "outputs": [],
   "source": [
    "X = df.copy()\n",
    "y = X.pop('cyberbullying_type')"
   ]
  },
  {
   "cell_type": "code",
   "execution_count": 7,
   "id": "91c185f5",
   "metadata": {
    "execution": {
     "iopub.execute_input": "2023-08-05T05:18:08.850443Z",
     "iopub.status.busy": "2023-08-05T05:18:08.849567Z",
     "iopub.status.idle": "2023-08-05T05:18:08.854561Z",
     "shell.execute_reply": "2023-08-05T05:18:08.853722Z"
    },
    "papermill": {
     "duration": 0.014954,
     "end_time": "2023-08-05T05:18:08.856798",
     "exception": false,
     "start_time": "2023-08-05T05:18:08.841844",
     "status": "completed"
    },
    "tags": []
   },
   "outputs": [],
   "source": [
    "text_transformer = make_pipeline(\n",
    "    # lower?\n",
    "    # remove stopwords?\n",
    ")"
   ]
  },
  {
   "cell_type": "code",
   "execution_count": 8,
   "id": "f8cc7c2a",
   "metadata": {
    "execution": {
     "iopub.execute_input": "2023-08-05T05:18:08.871200Z",
     "iopub.status.busy": "2023-08-05T05:18:08.870177Z",
     "iopub.status.idle": "2023-08-05T05:18:08.875174Z",
     "shell.execute_reply": "2023-08-05T05:18:08.874360Z"
    },
    "papermill": {
     "duration": 0.014543,
     "end_time": "2023-08-05T05:18:08.877409",
     "exception": false,
     "start_time": "2023-08-05T05:18:08.862866",
     "status": "completed"
    },
    "tags": []
   },
   "outputs": [],
   "source": [
    "categorical_transformer = make_pipeline(\n",
    "    SimpleImputer(strategy=\"constant\", fill_value=\"NA\"),\n",
    "    OneHotEncoder(handle_unknown='ignore'),\n",
    ")"
   ]
  },
  {
   "cell_type": "code",
   "execution_count": 9,
   "id": "b0e11180",
   "metadata": {
    "execution": {
     "iopub.execute_input": "2023-08-05T05:18:08.891384Z",
     "iopub.status.busy": "2023-08-05T05:18:08.890613Z",
     "iopub.status.idle": "2023-08-05T05:18:08.895520Z",
     "shell.execute_reply": "2023-08-05T05:18:08.894678Z"
    },
    "papermill": {
     "duration": 0.014692,
     "end_time": "2023-08-05T05:18:08.898046",
     "exception": false,
     "start_time": "2023-08-05T05:18:08.883354",
     "status": "completed"
    },
    "tags": []
   },
   "outputs": [],
   "source": [
    "preprocessor = make_column_transformer(\n",
    "    (text_transformer, ['tweet_text']),\n",
    "    (categorical_transformer, ['cyberbullying_type']),\n",
    ")"
   ]
  },
  {
   "cell_type": "code",
   "execution_count": 10,
   "id": "8b44165a",
   "metadata": {
    "execution": {
     "iopub.execute_input": "2023-08-05T05:18:08.912200Z",
     "iopub.status.busy": "2023-08-05T05:18:08.911438Z",
     "iopub.status.idle": "2023-08-05T05:18:09.003159Z",
     "shell.execute_reply": "2023-08-05T05:18:09.001733Z"
    },
    "papermill": {
     "duration": 0.102144,
     "end_time": "2023-08-05T05:18:09.006151",
     "exception": false,
     "start_time": "2023-08-05T05:18:08.904007",
     "status": "completed"
    },
    "tags": []
   },
   "outputs": [],
   "source": [
    "# stratify - make sure classes are evenlly represented across splits\n",
    "X_train, X_valid, y_train, y_valid = \\\n",
    "    train_test_split(X, y, stratify=y, train_size=0.75)"
   ]
  },
  {
   "cell_type": "code",
   "execution_count": 11,
   "id": "25a93216",
   "metadata": {
    "execution": {
     "iopub.execute_input": "2023-08-05T05:18:09.021607Z",
     "iopub.status.busy": "2023-08-05T05:18:09.021207Z",
     "iopub.status.idle": "2023-08-05T05:18:09.025722Z",
     "shell.execute_reply": "2023-08-05T05:18:09.024585Z"
    },
    "papermill": {
     "duration": 0.014135,
     "end_time": "2023-08-05T05:18:09.028021",
     "exception": false,
     "start_time": "2023-08-05T05:18:09.013886",
     "status": "completed"
    },
    "tags": []
   },
   "outputs": [],
   "source": [
    "# X_train = preprocessor.fit_transform(X_train)\n",
    "# X_valid = preprocessor.transform(X_valid)"
   ]
  },
  {
   "cell_type": "code",
   "execution_count": 12,
   "id": "3b6c1dd8",
   "metadata": {
    "execution": {
     "iopub.execute_input": "2023-08-05T05:18:09.041394Z",
     "iopub.status.busy": "2023-08-05T05:18:09.041003Z",
     "iopub.status.idle": "2023-08-05T05:18:09.045925Z",
     "shell.execute_reply": "2023-08-05T05:18:09.044709Z"
    },
    "papermill": {
     "duration": 0.014337,
     "end_time": "2023-08-05T05:18:09.048293",
     "exception": false,
     "start_time": "2023-08-05T05:18:09.033956",
     "status": "completed"
    },
    "tags": []
   },
   "outputs": [],
   "source": [
    "# input_shape = [X_train.shape[1]]"
   ]
  }
 ],
 "metadata": {
  "kernelspec": {
   "display_name": "Python 3",
   "language": "python",
   "name": "python3"
  },
  "language_info": {
   "codemirror_mode": {
    "name": "ipython",
    "version": 3
   },
   "file_extension": ".py",
   "mimetype": "text/x-python",
   "name": "python",
   "nbconvert_exporter": "python",
   "pygments_lexer": "ipython3",
   "version": "3.10.12"
  },
  "papermill": {
   "default_parameters": {},
   "duration": 15.303528,
   "end_time": "2023-08-05T05:18:10.077670",
   "environment_variables": {},
   "exception": null,
   "input_path": "__notebook__.ipynb",
   "output_path": "__notebook__.ipynb",
   "parameters": {},
   "start_time": "2023-08-05T05:17:54.774142",
   "version": "2.4.0"
  }
 },
 "nbformat": 4,
 "nbformat_minor": 5
}
