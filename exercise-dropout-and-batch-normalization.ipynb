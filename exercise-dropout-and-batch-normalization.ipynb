{
 "cells": [
  {
   "cell_type": "markdown",
   "id": "3cff5fca",
   "metadata": {
    "papermill": {
     "duration": 0.006718,
     "end_time": "2023-08-08T13:56:59.789767",
     "exception": false,
     "start_time": "2023-08-08T13:56:59.783049",
     "status": "completed"
    },
    "tags": []
   },
   "source": [
    "**This notebook is an exercise in the [Intro to Deep Learning](https://www.kaggle.com/learn/intro-to-deep-learning) course.  You can reference the tutorial at [this link](https://www.kaggle.com/ryanholbrook/dropout-and-batch-normalization).**\n",
    "\n",
    "---\n"
   ]
  },
  {
   "cell_type": "markdown",
   "id": "3919891a",
   "metadata": {
    "papermill": {
     "duration": 0.005899,
     "end_time": "2023-08-08T13:56:59.802048",
     "exception": false,
     "start_time": "2023-08-08T13:56:59.796149",
     "status": "completed"
    },
    "tags": []
   },
   "source": [
    "# Introduction #\n",
    "\n",
    "In this exercise, you'll add dropout to the *Spotify* model from Exercise 4 and see how batch normalization can let you successfully train models on difficult datasets.\n",
    "\n",
    "Run the next cell to get started!"
   ]
  },
  {
   "cell_type": "code",
   "execution_count": 1,
   "id": "fdf7b4d3",
   "metadata": {
    "execution": {
     "iopub.execute_input": "2023-08-08T13:56:59.816441Z",
     "iopub.status.busy": "2023-08-08T13:56:59.815450Z",
     "iopub.status.idle": "2023-08-08T13:56:59.860105Z",
     "shell.execute_reply": "2023-08-08T13:56:59.859195Z"
    },
    "papermill": {
     "duration": 0.05449,
     "end_time": "2023-08-08T13:56:59.862576",
     "exception": false,
     "start_time": "2023-08-08T13:56:59.808086",
     "status": "completed"
    },
    "tags": []
   },
   "outputs": [
    {
     "name": "stderr",
     "output_type": "stream",
     "text": [
      "/tmp/ipykernel_24/195640296.py:3: MatplotlibDeprecationWarning: The seaborn styles shipped by Matplotlib are deprecated since 3.6, as they no longer correspond to the styles shipped by seaborn. However, they will remain available as 'seaborn-v0_8-<style>'. Alternatively, directly use the seaborn API instead.\n",
      "  plt.style.use('seaborn-whitegrid')\n"
     ]
    }
   ],
   "source": [
    "# Setup plotting\n",
    "import matplotlib.pyplot as plt\n",
    "plt.style.use('seaborn-whitegrid')\n",
    "# Set Matplotlib defaults\n",
    "plt.rc('figure', autolayout=True)\n",
    "plt.rc('axes', labelweight='bold', labelsize='large',\n",
    "       titleweight='bold', titlesize=18, titlepad=10)\n",
    "plt.rc('animation', html='html5')\n",
    "\n",
    "# Setup feedback system\n",
    "from learntools.core import binder\n",
    "binder.bind(globals())\n",
    "from learntools.deep_learning_intro.ex5 import *"
   ]
  },
  {
   "cell_type": "markdown",
   "id": "19a1372c",
   "metadata": {
    "papermill": {
     "duration": 0.006036,
     "end_time": "2023-08-08T13:56:59.874973",
     "exception": false,
     "start_time": "2023-08-08T13:56:59.868937",
     "status": "completed"
    },
    "tags": []
   },
   "source": [
    "First load the *Spotify* dataset."
   ]
  },
  {
   "cell_type": "code",
   "execution_count": 2,
   "id": "4780bbb1",
   "metadata": {
    "execution": {
     "iopub.execute_input": "2023-08-08T13:56:59.890022Z",
     "iopub.status.busy": "2023-08-08T13:56:59.888841Z",
     "iopub.status.idle": "2023-08-08T13:57:09.455640Z",
     "shell.execute_reply": "2023-08-08T13:57:09.454124Z"
    },
    "papermill": {
     "duration": 9.576857,
     "end_time": "2023-08-08T13:57:09.458094",
     "exception": false,
     "start_time": "2023-08-08T13:56:59.881237",
     "status": "completed"
    },
    "tags": []
   },
   "outputs": [
    {
     "name": "stderr",
     "output_type": "stream",
     "text": [
      "/opt/conda/lib/python3.10/site-packages/scipy/__init__.py:146: UserWarning: A NumPy version >=1.16.5 and <1.23.0 is required for this version of SciPy (detected version 1.23.5\n",
      "  warnings.warn(f\"A NumPy version >={np_minversion} and <{np_maxversion}\"\n",
      "/opt/conda/lib/python3.10/site-packages/tensorflow_io/python/ops/__init__.py:98: UserWarning: unable to load libtensorflow_io_plugins.so: unable to open file: libtensorflow_io_plugins.so, from paths: ['/opt/conda/lib/python3.10/site-packages/tensorflow_io/python/ops/libtensorflow_io_plugins.so']\n",
      "caused by: ['/opt/conda/lib/python3.10/site-packages/tensorflow_io/python/ops/libtensorflow_io_plugins.so: undefined symbol: _ZN3tsl6StatusC1EN10tensorflow5error4CodeESt17basic_string_viewIcSt11char_traitsIcEENS_14SourceLocationE']\n",
      "  warnings.warn(f\"unable to load libtensorflow_io_plugins.so: {e}\")\n",
      "/opt/conda/lib/python3.10/site-packages/tensorflow_io/python/ops/__init__.py:104: UserWarning: file system plugins are not loaded: unable to open file: libtensorflow_io.so, from paths: ['/opt/conda/lib/python3.10/site-packages/tensorflow_io/python/ops/libtensorflow_io.so']\n",
      "caused by: ['/opt/conda/lib/python3.10/site-packages/tensorflow_io/python/ops/libtensorflow_io.so: undefined symbol: _ZTVN10tensorflow13GcsFileSystemE']\n",
      "  warnings.warn(f\"file system plugins are not loaded: {e}\")\n"
     ]
    },
    {
     "name": "stdout",
     "output_type": "stream",
     "text": [
      "Input shape: [18]\n"
     ]
    }
   ],
   "source": [
    "import pandas as pd\n",
    "from sklearn.preprocessing import StandardScaler, OneHotEncoder\n",
    "from sklearn.compose import make_column_transformer\n",
    "from sklearn.model_selection import GroupShuffleSplit\n",
    "\n",
    "from tensorflow import keras\n",
    "from tensorflow.keras import layers\n",
    "from tensorflow.keras import callbacks\n",
    "\n",
    "spotify = pd.read_csv('../input/dl-course-data/spotify.csv')\n",
    "\n",
    "X = spotify.copy().dropna()\n",
    "y = X.pop('track_popularity')\n",
    "artists = X['track_artist']\n",
    "\n",
    "features_num = ['danceability', 'energy', 'key', 'loudness', 'mode',\n",
    "                'speechiness', 'acousticness', 'instrumentalness',\n",
    "                'liveness', 'valence', 'tempo', 'duration_ms']\n",
    "features_cat = ['playlist_genre']\n",
    "\n",
    "preprocessor = make_column_transformer(\n",
    "    (StandardScaler(), features_num),\n",
    "    (OneHotEncoder(), features_cat),\n",
    ")\n",
    "\n",
    "def group_split(X, y, group, train_size=0.75):\n",
    "    splitter = GroupShuffleSplit(train_size=train_size)\n",
    "    train, test = next(splitter.split(X, y, groups=group))\n",
    "    return (X.iloc[train], X.iloc[test], y.iloc[train], y.iloc[test])\n",
    "\n",
    "X_train, X_valid, y_train, y_valid = group_split(X, y, artists)\n",
    "\n",
    "X_train = preprocessor.fit_transform(X_train)\n",
    "X_valid = preprocessor.transform(X_valid)\n",
    "y_train = y_train / 100\n",
    "y_valid = y_valid / 100\n",
    "\n",
    "input_shape = [X_train.shape[1]]\n",
    "print(\"Input shape: {}\".format(input_shape))"
   ]
  },
  {
   "cell_type": "markdown",
   "id": "54a9ece9",
   "metadata": {
    "papermill": {
     "duration": 0.006345,
     "end_time": "2023-08-08T13:57:09.471673",
     "exception": false,
     "start_time": "2023-08-08T13:57:09.465328",
     "status": "completed"
    },
    "tags": []
   },
   "source": [
    "# 1) Add Dropout to Spotify Model\n",
    "\n",
    "Here is the last model from Exercise 4. Add two dropout layers, one after the `Dense` layer with 128 units, and one after the `Dense` layer with 64 units. Set the dropout rate on both to `0.3`."
   ]
  },
  {
   "cell_type": "code",
   "execution_count": null,
   "id": "1810b083",
   "metadata": {
    "papermill": {
     "duration": 0.006719,
     "end_time": "2023-08-08T13:57:09.485482",
     "exception": false,
     "start_time": "2023-08-08T13:57:09.478763",
     "status": "completed"
    },
    "tags": []
   },
   "outputs": [],
   "source": []
  },
  {
   "cell_type": "code",
   "execution_count": 3,
   "id": "0ae6dd72",
   "metadata": {
    "execution": {
     "iopub.execute_input": "2023-08-08T13:57:09.499500Z",
     "iopub.status.busy": "2023-08-08T13:57:09.499183Z",
     "iopub.status.idle": "2023-08-08T13:57:12.498489Z",
     "shell.execute_reply": "2023-08-08T13:57:12.497484Z"
    },
    "lines_to_next_cell": 2,
    "papermill": {
     "duration": 3.008711,
     "end_time": "2023-08-08T13:57:12.500533",
     "exception": false,
     "start_time": "2023-08-08T13:57:09.491822",
     "status": "completed"
    },
    "tags": []
   },
   "outputs": [
    {
     "data": {
      "application/javascript": [
       "parent.postMessage({\"jupyterEvent\": \"custom.exercise_interaction\", \"data\": {\"outcomeType\": 1, \"valueTowardsCompletion\": 0.25, \"interactionType\": 1, \"questionType\": 2, \"questionId\": \"1_Q1\", \"learnToolsVersion\": \"0.3.4\", \"failureMessage\": \"\", \"exceptionClass\": \"\", \"trace\": \"\"}}, \"*\")"
      ],
      "text/plain": [
       "<IPython.core.display.Javascript object>"
      ]
     },
     "metadata": {},
     "output_type": "display_data"
    },
    {
     "data": {
      "text/markdown": [
       "<span style=\"color:#33cc33\">Correct</span>"
      ],
      "text/plain": [
       "Correct"
      ]
     },
     "metadata": {},
     "output_type": "display_data"
    }
   ],
   "source": [
    "# YOUR CODE HERE: Add two 30% dropout layers, one after 128 and one after 64\n",
    "model = keras.Sequential([\n",
    "    layers.Dense(128, activation='relu', input_shape=input_shape),\n",
    "    layers.Dropout(rate=0.3),\n",
    "    layers.Dense(64, activation='relu'),\n",
    "    layers.Dropout(rate=0.3),\n",
    "    layers.Dense(1)\n",
    "])\n",
    "\n",
    "# Check your answer\n",
    "q_1.check()"
   ]
  },
  {
   "cell_type": "code",
   "execution_count": 4,
   "id": "fca3dbf0",
   "metadata": {
    "execution": {
     "iopub.execute_input": "2023-08-08T13:57:12.517466Z",
     "iopub.status.busy": "2023-08-08T13:57:12.516317Z",
     "iopub.status.idle": "2023-08-08T13:57:12.521267Z",
     "shell.execute_reply": "2023-08-08T13:57:12.520358Z"
    },
    "papermill": {
     "duration": 0.015624,
     "end_time": "2023-08-08T13:57:12.523385",
     "exception": false,
     "start_time": "2023-08-08T13:57:12.507761",
     "status": "completed"
    },
    "tags": []
   },
   "outputs": [],
   "source": [
    "# Lines below will give you a hint or solution code\n",
    "#q_1.hint()\n",
    "#q_1.solution()"
   ]
  },
  {
   "cell_type": "markdown",
   "id": "3c414ca9",
   "metadata": {
    "papermill": {
     "duration": 0.007163,
     "end_time": "2023-08-08T13:57:12.537827",
     "exception": false,
     "start_time": "2023-08-08T13:57:12.530664",
     "status": "completed"
    },
    "tags": []
   },
   "source": [
    "Now run this next cell to train the model see the effect of adding dropout."
   ]
  },
  {
   "cell_type": "code",
   "execution_count": 5,
   "id": "be75fc02",
   "metadata": {
    "execution": {
     "iopub.execute_input": "2023-08-08T13:57:12.554025Z",
     "iopub.status.busy": "2023-08-08T13:57:12.552562Z",
     "iopub.status.idle": "2023-08-08T13:57:27.379155Z",
     "shell.execute_reply": "2023-08-08T13:57:27.378160Z"
    },
    "papermill": {
     "duration": 14.836606,
     "end_time": "2023-08-08T13:57:27.381263",
     "exception": false,
     "start_time": "2023-08-08T13:57:12.544657",
     "status": "completed"
    },
    "tags": []
   },
   "outputs": [
    {
     "name": "stdout",
     "output_type": "stream",
     "text": [
      "Minimum Validation Loss: 0.1910\n"
     ]
    },
    {
     "data": {
      "image/png": "[encoded data removed]",
      "text/plain": [
       "<Figure size 640x480 with 1 Axes>"
      ]
     },
     "metadata": {},
     "output_type": "display_data"
    }
   ],
   "source": [
    "model.compile(\n",
    "    optimizer='adam',\n",
    "    loss='mae',\n",
    ")\n",
    "history = model.fit(\n",
    "    X_train, y_train,\n",
    "    validation_data=(X_valid, y_valid),\n",
    "    batch_size=512,\n",
    "    epochs=50,\n",
    "    verbose=0,\n",
    ")\n",
    "history_df = pd.DataFrame(history.history)\n",
    "history_df.loc[:, ['loss', 'val_loss']].plot()\n",
    "print(\"Minimum Validation Loss: {:0.4f}\".format(history_df['val_loss'].min()))"
   ]
  },
  {
   "cell_type": "markdown",
   "id": "2c3f80a6",
   "metadata": {
    "papermill": {
     "duration": 0.007106,
     "end_time": "2023-08-08T13:57:27.395826",
     "exception": false,
     "start_time": "2023-08-08T13:57:27.388720",
     "status": "completed"
    },
    "tags": []
   },
   "source": [
    "# 2) Evaluate Dropout\n",
    "\n",
    "Recall from Exercise 4 that this model tended to overfit the data around epoch 5. Did adding dropout seem to help prevent overfitting this time?"
   ]
  },
  {
   "cell_type": "code",
   "execution_count": 6,
   "id": "58430d32",
   "metadata": {
    "execution": {
     "iopub.execute_input": "2023-08-08T13:57:27.412340Z",
     "iopub.status.busy": "2023-08-08T13:57:27.411403Z",
     "iopub.status.idle": "2023-08-08T13:57:27.420668Z",
     "shell.execute_reply": "2023-08-08T13:57:27.418772Z"
    },
    "papermill": {
     "duration": 0.019519,
     "end_time": "2023-08-08T13:57:27.422719",
     "exception": false,
     "start_time": "2023-08-08T13:57:27.403200",
     "status": "completed"
    },
    "tags": []
   },
   "outputs": [
    {
     "data": {
      "application/javascript": [
       "parent.postMessage({\"jupyterEvent\": \"custom.exercise_interaction\", \"data\": {\"outcomeType\": 1, \"valueTowardsCompletion\": 0.25, \"interactionType\": 1, \"questionType\": 4, \"questionId\": \"2_Q2\", \"learnToolsVersion\": \"0.3.4\", \"failureMessage\": \"\", \"exceptionClass\": \"\", \"trace\": \"\"}}, \"*\")"
      ],
      "text/plain": [
       "<IPython.core.display.Javascript object>"
      ]
     },
     "metadata": {},
     "output_type": "display_data"
    },
    {
     "data": {
      "text/markdown": [
       "<span style=\"color:#33cc33\">Correct:</span> \n",
       "\n",
       "\n",
       "From the learning curves, you can see that the validation loss remains near a constant minimum even though the training loss continues to decrease. So we can see that adding dropout did prevent overfitting this time. Moreover, by making it harder for the network to fit spurious patterns, dropout may have encouraged the network to seek out more of the true patterns, possibly improving the validation loss some as well).\n"
      ],
      "text/plain": [
       "Correct: \n",
       "\n",
       "\n",
       "From the learning curves, you can see that the validation loss remains near a constant minimum even though the training loss continues to decrease. So we can see that adding dropout did prevent overfitting this time. Moreover, by making it harder for the network to fit spurious patterns, dropout may have encouraged the network to seek out more of the true patterns, possibly improving the validation loss some as well)."
      ]
     },
     "metadata": {},
     "output_type": "display_data"
    }
   ],
   "source": [
    "# View the solution (Run this cell to receive credit!)\n",
    "q_2.check()"
   ]
  },
  {
   "cell_type": "markdown",
   "id": "fec993ef",
   "metadata": {
    "papermill": {
     "duration": 0.007337,
     "end_time": "2023-08-08T13:57:27.437570",
     "exception": false,
     "start_time": "2023-08-08T13:57:27.430233",
     "status": "completed"
    },
    "tags": []
   },
   "source": [
    "Now, we'll switch topics to explore how batch normalization can fix problems in training.\n",
    "\n",
    "Load the *Concrete* dataset. We won't do any standardization this time. This will make the effect of batch normalization much more apparent."
   ]
  },
  {
   "cell_type": "code",
   "execution_count": 7,
   "id": "2acdd3bb",
   "metadata": {
    "execution": {
     "iopub.execute_input": "2023-08-08T13:57:27.453753Z",
     "iopub.status.busy": "2023-08-08T13:57:27.453486Z",
     "iopub.status.idle": "2023-08-08T13:57:27.469909Z",
     "shell.execute_reply": "2023-08-08T13:57:27.468979Z"
    },
    "papermill": {
     "duration": 0.026932,
     "end_time": "2023-08-08T13:57:27.472034",
     "exception": false,
     "start_time": "2023-08-08T13:57:27.445102",
     "status": "completed"
    },
    "tags": []
   },
   "outputs": [],
   "source": [
    "import pandas as pd\n",
    "\n",
    "concrete = pd.read_csv('../input/dl-course-data/concrete.csv')\n",
    "df = concrete.copy()\n",
    "\n",
    "df_train = df.sample(frac=0.7, random_state=0)\n",
    "df_valid = df.drop(df_train.index)\n",
    "\n",
    "X_train = df_train.drop('CompressiveStrength', axis=1)\n",
    "X_valid = df_valid.drop('CompressiveStrength', axis=1)\n",
    "y_train = df_train['CompressiveStrength']\n",
    "y_valid = df_valid['CompressiveStrength']\n",
    "\n",
    "input_shape = [X_train.shape[1]]"
   ]
  },
  {
   "cell_type": "markdown",
   "id": "73dbec6b",
   "metadata": {
    "papermill": {
     "duration": 0.007586,
     "end_time": "2023-08-08T13:57:27.487422",
     "exception": false,
     "start_time": "2023-08-08T13:57:27.479836",
     "status": "completed"
    },
    "tags": []
   },
   "source": [
    "Run the following cell to train the network on the unstandardized *Concrete* data."
   ]
  },
  {
   "cell_type": "code",
   "execution_count": 8,
   "id": "abef056f",
   "metadata": {
    "execution": {
     "iopub.execute_input": "2023-08-08T13:57:27.507736Z",
     "iopub.status.busy": "2023-08-08T13:57:27.507451Z",
     "iopub.status.idle": "2023-08-08T13:57:35.543649Z",
     "shell.execute_reply": "2023-08-08T13:57:35.542705Z"
    },
    "papermill": {
     "duration": 8.049225,
     "end_time": "2023-08-08T13:57:35.545697",
     "exception": false,
     "start_time": "2023-08-08T13:57:27.496472",
     "status": "completed"
    },
    "tags": []
   },
   "outputs": [
    {
     "name": "stdout",
     "output_type": "stream",
     "text": [
      "Minimum Validation Loss: nan\n"
     ]
    },
    {
     "data": {
      "image/png": "[encoded data removed]",
      "text/plain": [
       "<Figure size 640x480 with 1 Axes>"
      ]
     },
     "metadata": {},
     "output_type": "display_data"
    }
   ],
   "source": [
    "model = keras.Sequential([\n",
    "    layers.Dense(512, activation='relu', input_shape=input_shape),\n",
    "    layers.Dense(512, activation='relu'),    \n",
    "    layers.Dense(512, activation='relu'),\n",
    "    layers.Dense(1),\n",
    "])\n",
    "model.compile(\n",
    "    optimizer='sgd', # SGD is more sensitive to differences of scale\n",
    "    loss='mae',\n",
    "    metrics=['mae'],\n",
    ")\n",
    "history = model.fit(\n",
    "    X_train, y_train,\n",
    "    validation_data=(X_valid, y_valid),\n",
    "    batch_size=64,\n",
    "    epochs=100,\n",
    "    verbose=0,\n",
    ")\n",
    "\n",
    "history_df = pd.DataFrame(history.history)\n",
    "history_df.loc[0:, ['loss', 'val_loss']].plot()\n",
    "print((\"Minimum Validation Loss: {:0.4f}\").format(history_df['val_loss'].min()))"
   ]
  },
  {
   "cell_type": "markdown",
   "id": "66ecd2eb",
   "metadata": {
    "papermill": {
     "duration": 0.007935,
     "end_time": "2023-08-08T13:57:35.561846",
     "exception": false,
     "start_time": "2023-08-08T13:57:35.553911",
     "status": "completed"
    },
    "tags": []
   },
   "source": [
    "Did you end up with a blank graph? Trying to train this network on this dataset will usually fail. Even when it does converge (due to a lucky weight initialization), it tends to converge to a very large number.\n",
    "\n",
    "# 3) Add Batch Normalization Layers\n",
    "\n",
    "Batch normalization can help correct problems like this.\n",
    "\n",
    "Add four `BatchNormalization` layers, one before each of the dense layers. (Remember to move the `input_shape` argument to the new first layer.)"
   ]
  },
  {
   "cell_type": "code",
   "execution_count": 9,
   "id": "d24f8438",
   "metadata": {
    "execution": {
     "iopub.execute_input": "2023-08-08T13:57:35.581043Z",
     "iopub.status.busy": "2023-08-08T13:57:35.579365Z",
     "iopub.status.idle": "2023-08-08T13:57:35.604227Z",
     "shell.execute_reply": "2023-08-08T13:57:35.603270Z"
    },
    "lines_to_next_cell": 0,
    "papermill": {
     "duration": 0.036285,
     "end_time": "2023-08-08T13:57:35.606338",
     "exception": false,
     "start_time": "2023-08-08T13:57:35.570053",
     "status": "completed"
    },
    "tags": []
   },
   "outputs": [
    {
     "data": {
      "application/javascript": [
       "parent.postMessage({\"jupyterEvent\": \"custom.exercise_interaction\", \"data\": {\"outcomeType\": 1, \"valueTowardsCompletion\": 0.25, \"interactionType\": 1, \"questionType\": 2, \"questionId\": \"3_Q3\", \"learnToolsVersion\": \"0.3.4\", \"failureMessage\": \"\", \"exceptionClass\": \"\", \"trace\": \"\"}}, \"*\")"
      ],
      "text/plain": [
       "<IPython.core.display.Javascript object>"
      ]
     },
     "metadata": {},
     "output_type": "display_data"
    },
    {
     "data": {
      "text/markdown": [
       "<span style=\"color:#33cc33\">Correct</span>"
      ],
      "text/plain": [
       "Correct"
      ]
     },
     "metadata": {},
     "output_type": "display_data"
    }
   ],
   "source": [
    "# YOUR CODE HERE: Add a BatchNormalization layer before each Dense layer\n",
    "model = keras.Sequential([\n",
    "    layers.BatchNormalization(),\n",
    "    layers.Dense(512, activation='relu', input_shape=input_shape),\n",
    "    layers.BatchNormalization(),\n",
    "    layers.Dense(512, activation='relu'),\n",
    "    layers.BatchNormalization(),\n",
    "    layers.Dense(512, activation='relu'),\n",
    "    layers.BatchNormalization(),\n",
    "    layers.Dense(1),\n",
    "])\n",
    "\n",
    "# Check your answer\n",
    "q_3.check()"
   ]
  },
  {
   "cell_type": "code",
   "execution_count": 10,
   "id": "4952757f",
   "metadata": {
    "execution": {
     "iopub.execute_input": "2023-08-08T13:57:35.623826Z",
     "iopub.status.busy": "2023-08-08T13:57:35.623555Z",
     "iopub.status.idle": "2023-08-08T13:57:35.627573Z",
     "shell.execute_reply": "2023-08-08T13:57:35.626553Z"
    },
    "papermill": {
     "duration": 0.01538,
     "end_time": "2023-08-08T13:57:35.629951",
     "exception": false,
     "start_time": "2023-08-08T13:57:35.614571",
     "status": "completed"
    },
    "tags": []
   },
   "outputs": [],
   "source": [
    "# Lines below will give you a hint or solution code\n",
    "#q_3.hint()\n",
    "#q_3.solution()"
   ]
  },
  {
   "cell_type": "markdown",
   "id": "deaebf1f",
   "metadata": {
    "papermill": {
     "duration": 0.007925,
     "end_time": "2023-08-08T13:57:35.645923",
     "exception": false,
     "start_time": "2023-08-08T13:57:35.637998",
     "status": "completed"
    },
    "tags": []
   },
   "source": [
    "Run the next cell to see if batch normalization will let us train the model."
   ]
  },
  {
   "cell_type": "code",
   "execution_count": 11,
   "id": "b52ec42a",
   "metadata": {
    "execution": {
     "iopub.execute_input": "2023-08-08T13:57:35.663233Z",
     "iopub.status.busy": "2023-08-08T13:57:35.662918Z",
     "iopub.status.idle": "2023-08-08T13:57:47.288691Z",
     "shell.execute_reply": "2023-08-08T13:57:47.286520Z"
    },
    "papermill": {
     "duration": 11.636875,
     "end_time": "2023-08-08T13:57:47.290812",
     "exception": false,
     "start_time": "2023-08-08T13:57:35.653937",
     "status": "completed"
    },
    "tags": []
   },
   "outputs": [
    {
     "name": "stdout",
     "output_type": "stream",
     "text": [
      "Minimum Validation Loss: 3.8373\n"
     ]
    },
    {
     "data": {
      "image/png": "[encoded data removed]",
      "text/plain": [
       "<Figure size 640x480 with 1 Axes>"
      ]
     },
     "metadata": {},
     "output_type": "display_data"
    }
   ],
   "source": [
    "model.compile(\n",
    "    optimizer='sgd',\n",
    "    loss='mae',\n",
    "    metrics=['mae'],\n",
    ")\n",
    "EPOCHS = 100\n",
    "history = model.fit(\n",
    "    X_train, y_train,\n",
    "    validation_data=(X_valid, y_valid),\n",
    "    batch_size=64,\n",
    "    epochs=EPOCHS,\n",
    "    verbose=0,\n",
    ")\n",
    "\n",
    "history_df = pd.DataFrame(history.history)\n",
    "history_df.loc[0:, ['loss', 'val_loss']].plot()\n",
    "print((\"Minimum Validation Loss: {:0.4f}\").format(history_df['val_loss'].min()))"
   ]
  },
  {
   "cell_type": "markdown",
   "id": "9caadb75",
   "metadata": {
    "papermill": {
     "duration": 0.008627,
     "end_time": "2023-08-08T13:57:47.308657",
     "exception": false,
     "start_time": "2023-08-08T13:57:47.300030",
     "status": "completed"
    },
    "tags": []
   },
   "source": [
    "# 4) Evaluate Batch Normalization\n",
    "\n",
    "Did adding batch normalization help?"
   ]
  },
  {
   "cell_type": "code",
   "execution_count": 12,
   "id": "c644dd3e",
   "metadata": {
    "execution": {
     "iopub.execute_input": "2023-08-08T13:57:47.327871Z",
     "iopub.status.busy": "2023-08-08T13:57:47.327573Z",
     "iopub.status.idle": "2023-08-08T13:57:47.336145Z",
     "shell.execute_reply": "2023-08-08T13:57:47.335267Z"
    },
    "lines_to_next_cell": 0,
    "papermill": {
     "duration": 0.020977,
     "end_time": "2023-08-08T13:57:47.338327",
     "exception": false,
     "start_time": "2023-08-08T13:57:47.317350",
     "status": "completed"
    },
    "tags": []
   },
   "outputs": [
    {
     "data": {
      "application/javascript": [
       "parent.postMessage({\"jupyterEvent\": \"custom.exercise_interaction\", \"data\": {\"outcomeType\": 1, \"valueTowardsCompletion\": 0.25, \"interactionType\": 1, \"questionType\": 4, \"questionId\": \"4_Q4\", \"learnToolsVersion\": \"0.3.4\", \"failureMessage\": \"\", \"exceptionClass\": \"\", \"trace\": \"\"}}, \"*\")"
      ],
      "text/plain": [
       "<IPython.core.display.Javascript object>"
      ]
     },
     "metadata": {},
     "output_type": "display_data"
    },
    {
     "data": {
      "text/markdown": [
       "<span style=\"color:#33cc33\">Correct:</span> \n",
       "\n",
       "\n",
       "You can see that adding batch normalization was a big improvement on the first attempt! By adaptively scaling the data as it passes through the network, batch normalization can let you train models on difficult datasets.\n"
      ],
      "text/plain": [
       "Correct: \n",
       "\n",
       "\n",
       "You can see that adding batch normalization was a big improvement on the first attempt! By adaptively scaling the data as it passes through the network, batch normalization can let you train models on difficult datasets."
      ]
     },
     "metadata": {},
     "output_type": "display_data"
    }
   ],
   "source": [
    "# View the solution (Run this cell to receive credit!)\n",
    "q_4.check()"
   ]
  },
  {
   "cell_type": "markdown",
   "id": "56cdc364",
   "metadata": {
    "papermill": {
     "duration": 0.008788,
     "end_time": "2023-08-08T13:57:47.356090",
     "exception": false,
     "start_time": "2023-08-08T13:57:47.347302",
     "status": "completed"
    },
    "tags": []
   },
   "source": [
    "# Keep Going #\n",
    "\n",
    "[**Create neural networks**](https://www.kaggle.com/ryanholbrook/binary-classification) for binary classification."
   ]
  },
  {
   "cell_type": "markdown",
   "id": "c31eac8b",
   "metadata": {
    "papermill": {
     "duration": 0.00867,
     "end_time": "2023-08-08T13:57:47.373707",
     "exception": false,
     "start_time": "2023-08-08T13:57:47.365037",
     "status": "completed"
    },
    "tags": []
   },
   "source": [
    "---\n",
    "\n",
    "\n",
    "\n",
    "\n",
    "*Have questions or comments? Visit the [course discussion forum](https://www.kaggle.com/learn/intro-to-deep-learning/discussion) to chat with other learners.*"
   ]
  }
 ],
 "metadata": {
  "kernelspec": {
   "display_name": "Python 3",
   "language": "python",
   "name": "python3"
  },
  "language_info": {
   "codemirror_mode": {
    "name": "ipython",
    "version": 3
   },
   "file_extension": ".py",
   "mimetype": "text/x-python",
   "name": "python",
   "nbconvert_exporter": "python",
   "pygments_lexer": "ipython3",
   "version": "3.10.12"
  },
  "papermill": {
   "default_parameters": {},
   "duration": 60.781648,
   "end_time": "2023-08-08T13:57:50.511765",
   "environment_variables": {},
   "exception": null,
   "input_path": "__notebook__.ipynb",
   "output_path": "__notebook__.ipynb",
   "parameters": {},
   "start_time": "2023-08-08T13:56:49.730117",
   "version": "2.4.0"
  }
 },
 "nbformat": 4,
 "nbformat_minor": 5
}
